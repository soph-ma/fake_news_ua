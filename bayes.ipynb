{
 "cells": [
  {
   "cell_type": "markdown",
   "metadata": {},
   "source": [
    "## Наївний Баєс"
   ]
  },
  {
   "cell_type": "code",
   "execution_count": 1,
   "metadata": {},
   "outputs": [],
   "source": [
    "# %pip install torch pandas transformers scikit-learn matplotlib nltk pymorphy2 pymorphy2-dicts-uk"
   ]
  },
  {
   "cell_type": "code",
   "execution_count": 2,
   "metadata": {},
   "outputs": [],
   "source": [
    "# import nltk\n",
    "# nltk.download(\"punkt\")"
   ]
  },
  {
   "cell_type": "code",
   "execution_count": 3,
   "metadata": {},
   "outputs": [],
   "source": [
    "from sklearn.model_selection import train_test_split\n",
    "from sklearn.naive_bayes import GaussianNB\n",
    "import numpy as np\n",
    "import pandas as pd\n",
    "\n",
    "from preprocessing import (get_x, \n",
    "                           get_y, \n",
    "                           get_vocab_size, \n",
    "                           tokenize_x, \n",
    "                           tokenize_titles,\n",
    "                           balance_data, \n",
    "                           create_dictionary, \n",
    "                           lemmatize_word, \n",
    "                           is_not_punctuation, \n",
    "                           cat_titles_and_texts,\n",
    "                           get_x1)"
   ]
  },
  {
   "cell_type": "code",
   "execution_count": 4,
   "metadata": {},
   "outputs": [],
   "source": [
    "df = pd.read_csv(\"translated.csv\")\n",
    "x = get_x(df)\n",
    "y = get_y(df)\n",
    "x_titles = get_x1(df)"
   ]
  },
  {
   "cell_type": "code",
   "execution_count": 5,
   "metadata": {},
   "outputs": [
    {
     "name": "stdout",
     "output_type": "stream",
     "text": [
      "Int64Index([ 706, 5325, 1665, 6675, 5605, 2317, 1691, 5030,  318, 3745,\n",
      "            ...\n",
      "            6500,  422, 1220, 3439, 3877, 7724, 6732,  102, 2418, 7796],\n",
      "           dtype='int64', length=2498)\n",
      "4913\n"
     ]
    }
   ],
   "source": [
    "df_zepopo = balance_data(pd.read_csv(\"data_set_4.csv\"))\n",
    "# df_zepopo = pd.read_csv(\"data_set_4.csv\")\n",
    "# df_zepopo = df_zepopo.sample(frac=1).iloc[::4]\n",
    "print(len(df_zepopo))\n",
    "x1 = get_x(df_zepopo)\n",
    "y1 = get_y(df_zepopo)\n",
    "x1_titles = get_x1(df_zepopo)"
   ]
  },
  {
   "cell_type": "code",
   "execution_count": 6,
   "metadata": {},
   "outputs": [
    {
     "name": "stdout",
     "output_type": "stream",
     "text": [
      "1188\n"
     ]
    }
   ],
   "source": [
    "df_realdata = pd.read_csv(\"new_real_news.csv\")\n",
    "print(len(df_realdata))\n",
    "x2 = get_x(df_realdata)\n",
    "y2 = get_y(df_realdata)\n",
    "x2_titles = get_x1(df_realdata)"
   ]
  },
  {
   "cell_type": "code",
   "execution_count": 7,
   "metadata": {},
   "outputs": [],
   "source": [
    "# merging two datasets together\n",
    "x += x1\n",
    "x += x2\n",
    "\n",
    "y += y1\n",
    "y += y2\n",
    "\n",
    "x_titles += x1_titles\n",
    "x_titles += x2_titles\n",
    "\n",
    "x = cat_titles_and_texts(texts=x, titles=x_titles)"
   ]
  },
  {
   "cell_type": "code",
   "execution_count": 8,
   "metadata": {},
   "outputs": [],
   "source": [
    "X_train, X_test, y_train, y_test, X_titles_train, X_titles_test = train_test_split(\n",
    "    x, y, x_titles, test_size=0.2, random_state=42\n",
    ")"
   ]
  },
  {
   "cell_type": "code",
   "execution_count": 9,
   "metadata": {},
   "outputs": [],
   "source": [
    "import json\n",
    "# loading an existing dictionary\n",
    "with open(\"dictionary.json\", \"r\", encoding=\"utf-8\") as f:\n",
    "    dictionary = json.load(f)"
   ]
  },
  {
   "cell_type": "code",
   "execution_count": 10,
   "metadata": {},
   "outputs": [],
   "source": [
    "X_train, X_test = np.array(tokenize_x(X_train, dictionary=dictionary), dtype=float), np.array(tokenize_x(X_test, dictionary=dictionary), dtype=float)\n",
    "X_titles_train, X_titles_test = np.array(tokenize_x(X_titles_train, dictionary=dictionary), dtype=float), np.array(tokenize_x(X_titles_test, dictionary=dictionary), dtype=float)  "
   ]
  },
  {
   "cell_type": "code",
   "execution_count": 11,
   "metadata": {},
   "outputs": [],
   "source": [
    "y_train = np.array(y_train)\n",
    "y_test = np.array(y_test)"
   ]
  },
  {
   "cell_type": "code",
   "execution_count": 12,
   "metadata": {},
   "outputs": [
    {
     "name": "stdout",
     "output_type": "stream",
     "text": [
      "[1.0, 1.0, 1.0, 1.0, 1.0]\n"
     ]
    }
   ],
   "source": [
    "print(y[:5])"
   ]
  },
  {
   "cell_type": "code",
   "execution_count": 13,
   "metadata": {},
   "outputs": [],
   "source": [
    "gnb = GaussianNB()\n",
    "y_pred = gnb.fit(X_train, y_train).predict(X_test)"
   ]
  },
  {
   "cell_type": "markdown",
   "metadata": {},
   "source": [
    "### Оцінка моделі"
   ]
  },
  {
   "cell_type": "markdown",
   "metadata": {},
   "source": [
    "*Метрики*:\n",
    "- Accuracy\n",
    "- Precision\n",
    "- Recall \n",
    "- f1"
   ]
  },
  {
   "cell_type": "code",
   "execution_count": 14,
   "metadata": {},
   "outputs": [],
   "source": [
    "from sklearn.metrics import (accuracy_score, precision_score, recall_score, f1_score)"
   ]
  },
  {
   "cell_type": "code",
   "execution_count": 15,
   "metadata": {},
   "outputs": [],
   "source": [
    "accuracy = accuracy_score(y_test, y_pred)\n",
    "precision = precision_score(y_test, y_pred)\n",
    "recall = recall_score(y_test, y_pred)\n",
    "f1 = f1_score(y_test, y_pred)"
   ]
  },
  {
   "cell_type": "code",
   "execution_count": 16,
   "metadata": {},
   "outputs": [
    {
     "name": "stdout",
     "output_type": "stream",
     "text": [
      "Accuracy: 0.6153549382716049\n",
      "Precision: 0.6731107205623902\n",
      "Recall: 0.32077051926298156\n",
      "f1: 0.43448667044809985\n"
     ]
    }
   ],
   "source": [
    "print(\"Accuracy:\", accuracy)\n",
    "print(\"Precision:\", precision)\n",
    "print(\"Recall:\", recall)\n",
    "print(\"f1:\", f1)"
   ]
  },
  {
   "cell_type": "markdown",
   "metadata": {},
   "source": [
    "### Тестова вибірка"
   ]
  },
  {
   "cell_type": "code",
   "execution_count": 17,
   "metadata": {},
   "outputs": [],
   "source": [
    "import json\n",
    "with open(\"test_set.json\", \"r\", encoding=\"utf-8\") as f: \n",
    "    test_texts = json.load(f)\n",
    "\n",
    "fake_texts = [t[\"text\"] for t in test_texts if t[\"label\"] == \"Fake\"]\n",
    "fake_titles = [t[\"title\"] for t in test_texts if t[\"label\"] == \"Fake\"]\n",
    "real_texts = [t[\"text\"] for t in test_texts if t[\"label\"] == \"Real\"]\n",
    "real_titles = [t[\"text\"] for t in test_texts if t[\"label\"] == \"Real\"]"
   ]
  },
  {
   "cell_type": "code",
   "execution_count": 18,
   "metadata": {},
   "outputs": [],
   "source": [
    "df = pd.DataFrame(columns = [\"ukr_text\", \"label\", \"title_ukr\"])\n",
    "for i, text in enumerate(fake_texts): \n",
    "    df.loc[i] = {\n",
    "        \"ukr_text\": text, \n",
    "        \"label\": \"Fake\", \n",
    "        \"title_ukr\": fake_titles[i]\n",
    "    }\n",
    "\n",
    "for i, text in enumerate(real_texts): \n",
    "    df.loc[i+20] = {\n",
    "        \"ukr_text\": text, \n",
    "        \"label\": \"Real\", \n",
    "        \"title_ukr\": real_titles[i]\n",
    "    }"
   ]
  },
  {
   "cell_type": "code",
   "execution_count": 19,
   "metadata": {},
   "outputs": [],
   "source": [
    "test_data_x = np.array(tokenize_x(get_x(df), dictionary=dictionary), dtype=\"float\")\n",
    "test_data_x_titles = np.array(tokenize_x(get_x1(df), dictionary=dictionary), dtype=\"float\")\n",
    "\n",
    "test_data_x = test_data_x + test_data_x_titles\n",
    "test_data_y = np.array(get_y(df))"
   ]
  },
  {
   "cell_type": "code",
   "execution_count": 20,
   "metadata": {},
   "outputs": [],
   "source": [
    "test_pred = gnb.predict(test_data_x)"
   ]
  },
  {
   "cell_type": "code",
   "execution_count": 21,
   "metadata": {},
   "outputs": [],
   "source": [
    "accuracy = accuracy_score(test_data_y, test_pred)\n",
    "precision = precision_score(test_data_y, test_pred)\n",
    "recall = recall_score(test_data_y, test_pred)\n",
    "f1 = f1_score(test_data_y, test_pred)"
   ]
  },
  {
   "cell_type": "code",
   "execution_count": 22,
   "metadata": {},
   "outputs": [
    {
     "name": "stdout",
     "output_type": "stream",
     "text": [
      "Accuracy: 0.375\n",
      "Precision: 0.25806451612903225\n",
      "Recall: 0.4\n",
      "f1: 0.3137254901960784\n"
     ]
    }
   ],
   "source": [
    "print(\"Accuracy:\", accuracy)\n",
    "print(\"Precision:\", precision)\n",
    "print(\"Recall:\", recall)\n",
    "print(\"f1:\", f1)"
   ]
  },
  {
   "cell_type": "code",
   "execution_count": null,
   "metadata": {},
   "outputs": [],
   "source": []
  }
 ],
 "metadata": {
  "kernelspec": {
   "display_name": "conda_pytorch_p310",
   "language": "python",
   "name": "conda_pytorch_p310"
  },
  "language_info": {
   "codemirror_mode": {
    "name": "ipython",
    "version": 3
   },
   "file_extension": ".py",
   "mimetype": "text/x-python",
   "name": "python",
   "nbconvert_exporter": "python",
   "pygments_lexer": "ipython3",
   "version": "3.10.14"
  }
 },
 "nbformat": 4,
 "nbformat_minor": 2
}
