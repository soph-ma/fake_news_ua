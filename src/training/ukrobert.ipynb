{
 "cells": [
  {
   "cell_type": "code",
   "execution_count": null,
   "id": "16b864b5",
   "metadata": {},
   "outputs": [],
   "source": [
    "# %pip install torch pandas transformers scikit-learn matplotlib nltk pymorphy2 pymorphy2-dicts-uk sentencepiece"
   ]
  },
  {
   "cell_type": "code",
   "execution_count": null,
   "id": "e91b4773",
   "metadata": {},
   "outputs": [],
   "source": [
    "# import nltk\n",
    "# nltk.download('punkt')"
   ]
  },
  {
   "cell_type": "code",
   "execution_count": null,
   "id": "5be2c2f7",
   "metadata": {},
   "outputs": [],
   "source": [
    "import torch\n",
    "import torch.nn as nn\n",
    "import pandas as pd\n",
    "import matplotlib.pyplot as plt\n",
    "\n",
    "from sklearn.model_selection import train_test_split\n",
    "from transformers import DistilBertTokenizer, DistilBertModel\n",
    "\n",
    "from preprocessing import (get_x, \n",
    "                           get_y, \n",
    "                           balance_data, \n",
    "                           get_x1, \n",
    "                           bert_tokenize_without_masks, \n",
    "                           cat_titles_and_texts)"
   ]
  },
  {
   "cell_type": "code",
   "execution_count": null,
   "id": "eab75c53",
   "metadata": {},
   "outputs": [],
   "source": [
    "if torch.cuda.is_available():\n",
    "    device = torch.device(\"cuda\")\n",
    "    print(\"Using GPU:\", torch.cuda.get_device_name(0))\n",
    "else:\n",
    "    device = torch.device(\"cpu\")\n",
    "    print(\"CUDA is not available. Using CPU instead.\")"
   ]
  },
  {
   "cell_type": "code",
   "execution_count": null,
   "id": "69315a4e",
   "metadata": {},
   "outputs": [],
   "source": [
    "df = pd.read_csv(\"src/data/translated.csv\").dropna(subset=['ukr_text'])\n",
    "df = df.sample(frac=0.3, random_state=1)\n",
    "x = get_x(df)\n",
    "y = get_y(df)\n",
    "x_titles = get_x1(df)"
   ]
  },
  {
   "cell_type": "code",
   "execution_count": null,
   "id": "fba6d432",
   "metadata": {},
   "outputs": [],
   "source": [
    "df_zepopo = balance_data(pd.read_csv(\"src/data/data_set_4.csv\")).dropna(subset=['Text'])\n",
    "df_zepopo = df_zepopo.sample(frac=0.3, random_state=1)\n",
    "print(len(df_zepopo))\n",
    "x1 = get_x(df_zepopo)\n",
    "y1 = get_y(df_zepopo)\n",
    "x1_titles = get_x1(df_zepopo)"
   ]
  },
  {
   "cell_type": "code",
   "execution_count": null,
   "id": "5c111220",
   "metadata": {},
   "outputs": [],
   "source": [
    "df_realdata = pd.read_csv(\"src/data/new_real_news.csv\").sample(frac=0.3, random_state=1).dropna(subset=['ukr_text'])\n",
    "x2 = get_x(df_realdata)\n",
    "y2 = get_y(df_realdata)\n",
    "x2_titles = get_x1(df_realdata)"
   ]
  },
  {
   "cell_type": "code",
   "execution_count": null,
   "id": "e9487d8a",
   "metadata": {},
   "outputs": [],
   "source": [
    "x += x1\n",
    "x += x2\n",
    "\n",
    "y += y1\n",
    "y += y2\n",
    "\n",
    "x_titles += x1_titles\n",
    "x_titles += x2_titles\n",
    "\n",
    "x = cat_titles_and_texts(texts=x, titles=x_titles)"
   ]
  },
  {
   "cell_type": "code",
   "execution_count": null,
   "id": "26214f79",
   "metadata": {},
   "outputs": [],
   "source": [
    "y = torch.tensor(y, dtype=torch.float).view(-1, 1).to(device)"
   ]
  },
  {
   "cell_type": "markdown",
   "id": "b5ecf690",
   "metadata": {},
   "source": [
    "### BERT"
   ]
  },
  {
   "cell_type": "code",
   "execution_count": null,
   "id": "d735813c",
   "metadata": {},
   "outputs": [],
   "source": [
    "tokenizer = DistilBertTokenizer.from_pretrained('distilbert/distilbert-base-multilingual-cased')\n",
    "bert_model = DistilBertModel.from_pretrained('distilbert/distilbert-base-multilingual-cased')\n",
    "bert_model = bert_model.to(device)"
   ]
  },
  {
   "cell_type": "code",
   "execution_count": null,
   "id": "214613f1",
   "metadata": {},
   "outputs": [],
   "source": [
    "X_train, X_temp, y_train, y_temp = train_test_split(\n",
    "    x, y, test_size=0.3, random_state=42\n",
    ")\n",
    "X_val, X_test, y_val, y_test = train_test_split(\n",
    "    X_temp, y_temp, test_size=0.5, random_state=42\n",
    ")"
   ]
  },
  {
   "cell_type": "code",
   "execution_count": null,
   "id": "18e29177",
   "metadata": {},
   "outputs": [],
   "source": [
    "X_train_encoded = bert_tokenize_without_masks(X_train, tokenizer=tokenizer)\n",
    "X_test_encoded = bert_tokenize_without_masks(X_test, tokenizer=tokenizer)\n",
    "X_val_encoded = bert_tokenize_without_masks(X_val, tokenizer=tokenizer)"
   ]
  },
  {
   "cell_type": "code",
   "execution_count": null,
   "id": "8875e1ed",
   "metadata": {},
   "outputs": [],
   "source": [
    "with torch.no_grad():  \n",
    "    X_train_embeddings = bert_model(X_train_encoded).last_hidden_state[:, 0, :]\n",
    "    X_test_embeddings = bert_model(X_test_encoded).last_hidden_state[:, 0, :]\n",
    "    X_val_embeddings = bert_model(X_val_encoded).last_hidden_state[:, 0, :]"
   ]
  },
  {
   "cell_type": "markdown",
   "id": "6ef35eab",
   "metadata": {},
   "source": [
    "### model architecture"
   ]
  },
  {
   "cell_type": "code",
   "execution_count": null,
   "id": "bee0f858",
   "metadata": {},
   "outputs": [],
   "source": [
    "class SequentialModel(torch.nn.Module):\n",
    "    def __init__(self, input_dim, hidden_dim, output_dim):\n",
    "        super(SequentialModel, self).__init__()\n",
    "        self.fc_x = nn.Linear(input_dim, hidden_dim)\n",
    "        self.relu = nn.ReLU()\n",
    "        \n",
    "        # output layer\n",
    "        self.out = nn.Linear(hidden_dim, output_dim)\n",
    "        \n",
    "\n",
    "    def forward(self, x):\n",
    "        x = self.fc_x(x)\n",
    "        x = self.relu(x)\n",
    "        x = torch.sigmoid(self.out(x))\n",
    "        return x"
   ]
  },
  {
   "cell_type": "code",
   "execution_count": null,
   "id": "286213d5",
   "metadata": {},
   "outputs": [],
   "source": [
    "embedding_dim = len(X_train_embeddings[0])\n",
    "output_dim = 1\n",
    "hidden_dim = 16\n",
    "learning_rate=0.0005\n",
    "num_epochs = 1000"
   ]
  },
  {
   "cell_type": "code",
   "execution_count": null,
   "id": "b0cc5694",
   "metadata": {},
   "outputs": [],
   "source": [
    "model = SequentialModel(input_dim=embedding_dim, \n",
    "                        hidden_dim=hidden_dim, \n",
    "                        output_dim=output_dim)\n",
    "model.to(device)\n",
    "criterion = nn.BCELoss()\n",
    "optimizer = torch.optim.Adam(model.parameters(), lr=learning_rate)"
   ]
  },
  {
   "cell_type": "markdown",
   "id": "3a9b8d79",
   "metadata": {},
   "source": [
    "### training"
   ]
  },
  {
   "cell_type": "code",
   "execution_count": null,
   "id": "4a7ac1d5",
   "metadata": {},
   "outputs": [],
   "source": [
    "from sklearn.metrics import accuracy_score"
   ]
  },
  {
   "cell_type": "code",
   "execution_count": null,
   "id": "06b689e7",
   "metadata": {},
   "outputs": [],
   "source": [
    "import numpy as np\n",
    "\n",
    "best_loss = float('inf')\n",
    "best_epoch = 0\n",
    "accuracies_train = []\n",
    "accuracies_val = []\n",
    "losses_train = []\n",
    "losses_val = []\n",
    "\n",
    "patience = 100\n",
    "patience_counter = 0\n",
    "\n",
    "for epoch in range(num_epochs):\n",
    "    model.train()\n",
    "    optimizer.zero_grad()\n",
    "    outputs = model(X_train_embeddings)\n",
    "    \n",
    "    # loss\n",
    "    loss = criterion(outputs, y_train)\n",
    "    losses_train.append(loss.item()) \n",
    "    loss.backward()\n",
    "    optimizer.step()\n",
    "\n",
    "    # accuracy (need to move tensors to CPU before converting to NumPy)\n",
    "    with torch.no_grad():\n",
    "        predicted = (outputs >= 0.5).squeeze().long()\n",
    "        accuracy = accuracy_score(y_train.cpu().numpy(), predicted.cpu().numpy())\n",
    "        accuracies_train.append(accuracy)\n",
    "    \n",
    "    # validation\n",
    "    model.eval()\n",
    "    val_outputs = model(X_val_embeddings)\n",
    "\n",
    "    # val loss\n",
    "    val_loss = criterion(val_outputs, y_val)\n",
    "    losses_val.append(val_loss.item())\n",
    "\n",
    "    # val accuracy (move to CPU and convert to NumPy)\n",
    "    with torch.no_grad():\n",
    "        predicted_val = (val_outputs >= 0.5).squeeze().long()\n",
    "        accuracy_val = accuracy_score(y_val.cpu().numpy(), predicted_val.cpu().numpy())\n",
    "        accuracies_val.append(accuracy_val)\n",
    "    \n",
    "    if val_loss < best_loss:\n",
    "        best_loss = val_loss\n",
    "        best_epoch = epoch\n",
    "        best_weights = model.state_dict()\n",
    "        patience_counter = 0 \n",
    "    else:\n",
    "        patience_counter += 1\n",
    "    \n",
    "    print(f\"Epoch: {epoch+1}/{num_epochs}, Training Loss: {loss.item()}, Validation Loss: {val_loss.item()}\")\n",
    "\n",
    "    if patience_counter >= patience:\n",
    "        print(\"Early stopping triggered\")\n",
    "        break\n",
    "    \n",
    "print(\"Best epoch: \", best_epoch)\n"
   ]
  },
  {
   "cell_type": "code",
   "execution_count": null,
   "id": "45994e79",
   "metadata": {},
   "outputs": [],
   "source": [
    "# lists to tensors\n",
    "losses_train = torch.tensor(losses_train)\n",
    "losses_val = torch.tensor(losses_val)\n",
    "accuracies_train = torch.tensor(accuracies_train)\n",
    "accuracies_val = torch.tensor(accuracies_val)\n",
    "\n",
    "# training and validation losses\n",
    "plt.figure(figsize=(12, 4))\n",
    "plt.subplot(1, 2, 1)\n",
    "plt.plot(losses_train.detach().numpy(), label='Training Loss')\n",
    "plt.plot(losses_val.detach().numpy(), label='Validation Loss')\n",
    "plt.xlabel('Epoch')\n",
    "plt.ylabel('Loss')\n",
    "plt.title('Training and Validation Loss')\n",
    "plt.legend()\n",
    "\n",
    "# training and validation accuracies\n",
    "plt.subplot(1, 2, 2)\n",
    "plt.plot(accuracies_train.detach().numpy(), label='Training Accuracy')\n",
    "plt.plot(accuracies_val.detach().numpy(), label='Validation Accuracy')\n",
    "plt.xlabel('Epoch')\n",
    "plt.ylabel('Accuracy')\n",
    "plt.title('Training and Validation Accuracy')\n",
    "plt.legend()\n",
    "\n",
    "plt.tight_layout()\n",
    "plt.show()"
   ]
  },
  {
   "cell_type": "code",
   "execution_count": null,
   "id": "4821b738",
   "metadata": {},
   "outputs": [],
   "source": [
    "from sklearn.metrics import (precision_score, recall_score, f1_score)"
   ]
  },
  {
   "cell_type": "code",
   "execution_count": null,
   "id": "06ee4532",
   "metadata": {},
   "outputs": [],
   "source": [
    "test_outputs = model(X_test_embeddings)\n",
    "test_outputs = (test_outputs >= 0.5).squeeze().long()"
   ]
  },
  {
   "cell_type": "code",
   "execution_count": null,
   "id": "c5ad7187",
   "metadata": {},
   "outputs": [],
   "source": [
    "test_outputs = test_outputs.cpu().numpy()\n",
    "y_test = y_test.cpu().numpy()"
   ]
  },
  {
   "cell_type": "code",
   "execution_count": null,
   "id": "1a157151",
   "metadata": {},
   "outputs": [],
   "source": [
    "test_accuracy = accuracy_score(y_test, test_outputs)\n",
    "test_precision = precision_score(y_test, test_outputs)\n",
    "test_recall = recall_score(y_test, test_outputs)\n",
    "test_f1 = f1_score(y_test, test_outputs)"
   ]
  },
  {
   "cell_type": "code",
   "execution_count": null,
   "id": "e3ed507d",
   "metadata": {},
   "outputs": [],
   "source": [
    "print(\"Accuracy:\", test_accuracy)\n",
    "print(\"Precision:\", test_precision)\n",
    "print(\"Recall:\", test_recall)\n",
    "print(\"f1:\", test_f1)"
   ]
  },
  {
   "cell_type": "markdown",
   "id": "5604b4f1",
   "metadata": {},
   "source": [
    "### test dataset"
   ]
  },
  {
   "cell_type": "code",
   "execution_count": null,
   "id": "e22dbba5",
   "metadata": {},
   "outputs": [],
   "source": [
    "import json\n",
    "with open(\"src/data/test_set.json\", \"r\", encoding=\"utf-8\") as f: \n",
    "    test_texts = json.load(f)\n",
    "\n",
    "fake_texts = [t[\"text\"] for t in test_texts if t[\"label\"] == \"Fake\"]\n",
    "fake_titles = [t[\"title\"] for t in test_texts if t[\"label\"] == \"Fake\"]\n",
    "real_texts = [t[\"text\"] for t in test_texts if t[\"label\"] == \"Real\"]\n",
    "real_titles = [t[\"text\"] for t in test_texts if t[\"label\"] == \"Real\"]"
   ]
  },
  {
   "cell_type": "code",
   "execution_count": null,
   "id": "2b00b170",
   "metadata": {},
   "outputs": [],
   "source": [
    "df = pd.DataFrame(columns = [\"ukr_text\", \"label\", \"title_ukr\"])\n",
    "for i, text in enumerate(fake_texts): \n",
    "    df.loc[i] = {\n",
    "        \"ukr_text\": text, \n",
    "        \"label\": \"Fake\", \n",
    "        \"title_ukr\": fake_titles[i]\n",
    "    }\n",
    "\n",
    "for i, text in enumerate(real_texts): \n",
    "    df.loc[i+42] = {\n",
    "        \"ukr_text\": text, \n",
    "        \"label\": \"Real\", \n",
    "        \"title_ukr\": real_titles[i]\n",
    "    }"
   ]
  },
  {
   "cell_type": "code",
   "execution_count": null,
   "id": "40be1b4a",
   "metadata": {},
   "outputs": [],
   "source": [
    "test_data_x = bert_tokenize_without_masks(cat_titles_and_texts(texts=get_x(df), titles=get_x1(df)), tokenizer=tokenizer)\n",
    "test_data_y = torch.tensor(get_y(df), dtype=torch.float).view(-1, 1).to(device)"
   ]
  },
  {
   "cell_type": "code",
   "execution_count": null,
   "id": "b3dfc748",
   "metadata": {},
   "outputs": [],
   "source": [
    "with torch.no_grad():\n",
    "    test_data_x = bert_model(test_data_x).last_hidden_state[:, 0, :]"
   ]
  },
  {
   "cell_type": "code",
   "execution_count": null,
   "id": "fb7cd9f3",
   "metadata": {},
   "outputs": [],
   "source": [
    "test_data_x = test_data_x.to(device)"
   ]
  },
  {
   "cell_type": "code",
   "execution_count": null,
   "id": "2592ddd6",
   "metadata": {},
   "outputs": [],
   "source": [
    "test_outputs = model(test_data_x)\n",
    "test_outputs = (test_outputs >= 0.5).squeeze().long()"
   ]
  },
  {
   "cell_type": "code",
   "execution_count": null,
   "id": "1913444d",
   "metadata": {},
   "outputs": [],
   "source": [
    "test_outputs"
   ]
  },
  {
   "cell_type": "code",
   "execution_count": null,
   "id": "2ae9b669",
   "metadata": {},
   "outputs": [],
   "source": [
    "test_outputs = test_outputs.cpu().numpy()\n",
    "test_data_y = test_data_y.cpu().numpy()"
   ]
  },
  {
   "cell_type": "code",
   "execution_count": null,
   "id": "4d19e4b9",
   "metadata": {},
   "outputs": [],
   "source": [
    "test_accuracy = accuracy_score(test_data_y, test_outputs)\n",
    "test_precision = precision_score(test_data_y, test_outputs)\n",
    "test_recall = recall_score(test_data_y, test_outputs)\n",
    "test_f1 = f1_score(test_data_y, test_outputs)"
   ]
  },
  {
   "cell_type": "code",
   "execution_count": null,
   "id": "c976db24",
   "metadata": {},
   "outputs": [],
   "source": [
    "print(test_accuracy, test_precision, test_recall, test_f1)"
   ]
  }
 ],
 "metadata": {
  "kernelspec": {
   "display_name": "conda_pytorch_p310",
   "language": "python",
   "name": "conda_pytorch_p310"
  },
  "language_info": {
   "codemirror_mode": {
    "name": "ipython",
    "version": 3
   },
   "file_extension": ".py",
   "mimetype": "text/x-python",
   "name": "python",
   "nbconvert_exporter": "python",
   "pygments_lexer": "ipython3",
   "version": "3.10.14"
  }
 },
 "nbformat": 4,
 "nbformat_minor": 5
}
