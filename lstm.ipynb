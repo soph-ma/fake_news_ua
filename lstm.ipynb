{
 "cells": [
  {
   "cell_type": "code",
   "execution_count": 1,
   "metadata": {},
   "outputs": [],
   "source": [
    "# %pip install torch pandas transformers scikit-learn matplotlib nltk pymorphy2 pymorphy2-dicts-uk"
   ]
  },
  {
   "cell_type": "code",
   "execution_count": 2,
   "metadata": {},
   "outputs": [],
   "source": [
    "import torch\n",
    "import torch.nn as nn\n",
    "import torch.optim as optim\n",
    "import pandas as pd\n",
    "import matplotlib.pyplot as plt\n",
    "\n",
    "from sklearn.model_selection import train_test_split\n",
    "\n",
    "from preprocessing import (get_x, \n",
    "                           get_y, \n",
    "                           get_vocab_size, \n",
    "                           tokenize_x, \n",
    "                           balance_data, \n",
    "                           create_dictionary, \n",
    "                           lemmatize_word, \n",
    "                           is_not_punctuation, \n",
    "                           get_x1)"
   ]
  },
  {
   "cell_type": "code",
   "execution_count": 3,
   "metadata": {},
   "outputs": [],
   "source": [
    "# import nltk\n",
    "# nltk.download('punkt')"
   ]
  },
  {
   "cell_type": "code",
   "execution_count": 4,
   "metadata": {},
   "outputs": [
    {
     "name": "stdout",
     "output_type": "stream",
     "text": [
      "Using GPU: NVIDIA A10G\n"
     ]
    }
   ],
   "source": [
    "if torch.cuda.is_available():\n",
    "    device = torch.device(\"cuda\")\n",
    "    print(\"Using GPU:\", torch.cuda.get_device_name(0))\n",
    "else:\n",
    "    device = torch.device(\"cpu\")\n",
    "    print(\"CUDA is not available. Using CPU instead.\")"
   ]
  },
  {
   "cell_type": "code",
   "execution_count": 5,
   "metadata": {},
   "outputs": [],
   "source": [
    "df = pd.read_csv(\"translated.csv\")\n",
    "x = get_x(df)\n",
    "y = get_y(df)\n",
    "x_titles = get_x1(df)\n"
   ]
  },
  {
   "cell_type": "code",
   "execution_count": 6,
   "metadata": {},
   "outputs": [],
   "source": [
    "# import nltk\n",
    "# nltk.download('punkt')"
   ]
  },
  {
   "cell_type": "code",
   "execution_count": 7,
   "metadata": {},
   "outputs": [
    {
     "name": "stdout",
     "output_type": "stream",
     "text": [
      "Int64Index([ 706, 5325, 1665, 6675, 5605, 2317, 1691, 5030,  318, 3745,\n",
      "            ...\n",
      "            6500,  422, 1220, 3439, 3877, 7724, 6732,  102, 2418, 7796],\n",
      "           dtype='int64', length=2498)\n",
      "4913\n"
     ]
    }
   ],
   "source": [
    "df_zepopo = balance_data(pd.read_csv(\"data_set_4.csv\"))\n",
    "print(len(df_zepopo))\n",
    "x1 = get_x(df_zepopo)\n",
    "y1 = get_y(df_zepopo)\n",
    "x1_titles = get_x1(df_zepopo)"
   ]
  },
  {
   "cell_type": "code",
   "execution_count": 8,
   "metadata": {},
   "outputs": [],
   "source": [
    "# merging two datasets together\n",
    "x += x1\n",
    "y += y1\n",
    "x_titles += x1_titles"
   ]
  },
  {
   "cell_type": "code",
   "execution_count": 9,
   "metadata": {},
   "outputs": [],
   "source": [
    "y = torch.tensor(y, dtype=torch.float).view(-1, 1) "
   ]
  },
  {
   "cell_type": "code",
   "execution_count": 10,
   "metadata": {},
   "outputs": [],
   "source": [
    "import json\n",
    "with open(\"dictionary.json\", \"r\", encoding=\"utf-8\") as f:\n",
    "    dictionary = json.load(f)"
   ]
  },
  {
   "cell_type": "code",
   "execution_count": 11,
   "metadata": {},
   "outputs": [],
   "source": [
    "X_train, X_temp, y_train, y_temp, X_titles_train, X_titles_temp = train_test_split(\n",
    "    x, y, x_titles, test_size=0.3, random_state=42\n",
    ")\n",
    "X_val, X_test, y_val, y_test, X_titles_val, X_titles_test = train_test_split(\n",
    "    X_temp, y_temp, X_titles_temp, test_size=0.5, random_state=42\n",
    ")"
   ]
  },
  {
   "cell_type": "code",
   "execution_count": 12,
   "metadata": {},
   "outputs": [],
   "source": [
    "X_train_tensor, X_val_tensor, X_test_tensor = torch.LongTensor(tokenize_x(X_train, dictionary=dictionary)), torch.LongTensor(tokenize_x(X_val, dictionary=dictionary)), torch.LongTensor(tokenize_x(X_test, dictionary=dictionary)),\n",
    "X_titles_train_tensor, X_titles_val_tensor, X_titles_test_tensor = torch.LongTensor(tokenize_x(X_titles_train, dictionary=dictionary)), torch.LongTensor(tokenize_x(X_titles_val, dictionary=dictionary)), torch.LongTensor(tokenize_x(X_titles_test, dictionary=dictionary)),  "
   ]
  },
  {
   "cell_type": "code",
   "execution_count": 13,
   "metadata": {},
   "outputs": [
    {
     "name": "stdout",
     "output_type": "stream",
     "text": [
      "cuda\n"
     ]
    }
   ],
   "source": [
    "print(device)"
   ]
  },
  {
   "cell_type": "code",
   "execution_count": 14,
   "metadata": {},
   "outputs": [
    {
     "name": "stdout",
     "output_type": "stream",
     "text": [
      "Саміт ЄС закликав Росію припинити всі військові дії проти України, вивести війська, дотримуватися гуманітарних норм tensor([6006, 7944,  469,    0, 7760,    0,  997,    0, 9655,    0, 1261,    0,\n",
      "        3672,    0,    0,    0,    0,    0,    0,    0,    0,    0,    0,    0,\n",
      "           0,    0,    0,    0,    0,    0,    0,    0,    0,    0,    0,    0,\n",
      "           0,    0,    0,    0,    0,    0,    0,    0,    0,    0,    0,    0,\n",
      "           0,    0,    0,    0,    0,    0,    0,    0,    0,    0,    0,    0,\n",
      "           0,    0,    0,    0,    0,    0,    0,    0,    0,    0,    0,    0,\n",
      "           0,    0,    0,    0,    0,    0,    0,    0,    0,    0,    0,    0,\n",
      "           0,    0,    0,    0,    0,    0,    0,    0,    0,    0,    0,    0,\n",
      "           0,    0,    0,    0,    0,    0,    0,    0,    0,    0,    0,    0,\n",
      "           0,    0,    0,    0,    0,    0,    0,    0,    0,    0,    0,    0,\n",
      "           0,    0,    0,    0,    0,    0,    0,    0,    0,    0,    0,    0,\n",
      "           0,    0,    0,    0,    0,    0,    0,    0,    0,    0,    0,    0,\n",
      "           0,    0,    0,    0,    0,    0]) Саміт ЄС закликав Росію припинити всі військові дії проти України, вивести війська, дотримуватися гуманітарних норм tensor([6006, 7944,  469,    0, 7760,    0,  997,    0, 9655,    0, 1261,    0,\n",
      "        3672,    0,    0,    0,    0,    0,    0,    0,    0,    0,    0,    0,\n",
      "           0,    0,    0,    0,    0,    0,    0,    0,    0,    0,    0,    0,\n",
      "           0,    0,    0,    0,    0,    0,    0,    0,    0,    0,    0,    0,\n",
      "           0,    0,    0,    0,    0,    0,    0,    0,    0,    0,    0,    0,\n",
      "           0,    0,    0,    0,    0,    0,    0,    0,    0,    0,    0,    0,\n",
      "           0,    0,    0,    0,    0,    0,    0,    0,    0,    0,    0,    0,\n",
      "           0,    0,    0,    0,    0,    0,    0,    0,    0,    0,    0,    0,\n",
      "           0,    0,    0,    0,    0,    0,    0,    0,    0,    0,    0,    0,\n",
      "           0,    0,    0,    0,    0,    0,    0,    0,    0,    0,    0,    0,\n",
      "           0,    0,    0,    0,    0,    0,    0,    0,    0,    0,    0,    0,\n",
      "           0,    0,    0,    0,    0,    0,    0,    0,    0,    0,    0,    0,\n",
      "           0,    0,    0,    0,    0,    0])\n"
     ]
    }
   ],
   "source": [
    "print(X_test[0], X_test_tensor[0], X_titles_test[0], X_titles_test_tensor[0])"
   ]
  },
  {
   "cell_type": "code",
   "execution_count": 15,
   "metadata": {},
   "outputs": [
    {
     "data": {
      "text/plain": [
       "torch.Size([8237, 150])"
      ]
     },
     "execution_count": 15,
     "metadata": {},
     "output_type": "execute_result"
    }
   ],
   "source": [
    "X_train_tensor.size()"
   ]
  },
  {
   "cell_type": "code",
   "execution_count": 16,
   "metadata": {},
   "outputs": [
    {
     "name": "stdout",
     "output_type": "stream",
     "text": [
      "real news\n",
      "5895\n",
      "fake news\n",
      "5873\n"
     ]
    }
   ],
   "source": [
    "# making sure the dataset is balanced\n",
    "print(\"real news\")\n",
    "print(len([i for i in y if i == 0]))\n",
    "print(\"fake news\")\n",
    "print(len([i for i in y if i == 1]))"
   ]
  },
  {
   "cell_type": "code",
   "execution_count": 17,
   "metadata": {},
   "outputs": [],
   "source": [
    "X_train_tensor = X_train_tensor.to(device)\n",
    "X_val_tensor = X_val_tensor.to(device)\n",
    "X_test_tensor = X_test_tensor.to(device)\n",
    "\n",
    "X_titles_train_tensor = X_titles_train_tensor.to(device)\n",
    "X_titles_val_tensor = X_titles_val_tensor.to(device)\n",
    "X_titles_test_tensor = X_titles_test_tensor.to(device)\n",
    "\n",
    "y_train = y_train.to(device)\n",
    "y_val = y_val.to(device)\n",
    "y_test = y_test.to(device)\n"
   ]
  },
  {
   "cell_type": "code",
   "execution_count": 18,
   "metadata": {},
   "outputs": [],
   "source": [
    "class LSTMClassifier(nn.Module):\n",
    "    def __init__(self, \n",
    "                 vocab_size, \n",
    "                 embedding_dim, \n",
    "                 hidden_dim, \n",
    "                 output_dim, \n",
    "                 num_layers, \n",
    "                 bidirectional, \n",
    "                 dropout, \n",
    "                 title_weight):\n",
    "        \n",
    "        super().__init__()\n",
    "        self.embedding = nn.Embedding(vocab_size, embedding_dim, padding_idx=0)\n",
    "        self.lstm = nn.LSTM(embedding_dim, hidden_dim, num_layers=num_layers, \n",
    "                            bidirectional=bidirectional, dropout=dropout, batch_first=True)\n",
    "        self.lstm_title = nn.LSTM(embedding_dim, hidden_dim, num_layers=num_layers, \n",
    "                            bidirectional=bidirectional, dropout=dropout, batch_first=True)\n",
    "        \n",
    "        self.title_weight = title_weight\n",
    "        \n",
    "        # output layer\n",
    "        total_hidden_dim = hidden_dim * 2 if bidirectional else hidden_dim\n",
    "        self.fc = nn.Linear(total_hidden_dim * 2, output_dim)\n",
    "        self.act = nn.Sigmoid()\n",
    "\n",
    "    def forward(self, x, x_titles):\n",
    "        \n",
    "        x_embedded = self.embedding(x)\n",
    "        x1_embedded = self.embedding(x_titles)\n",
    "        \n",
    "        _, (hidden_x, _) = self.lstm(x_embedded)\n",
    "        _, (hidden_x1, _) = self.lstm_title(x1_embedded)\n",
    "\n",
    "        \n",
    "        if self.lstm.bidirectional:\n",
    "            hidden_x = torch.cat((hidden_x[-2,:,:], hidden_x[-1,:,:]), dim=1)\n",
    "            hidden_x1 = torch.cat((hidden_x1[-2,:,:], hidden_x1[-1,:,:]), dim=1)\n",
    "        else:\n",
    "            hidden_x = hidden_x[-1,:,:]\n",
    "            hidden_x1 = hidden_x1[-1,:,:]\n",
    "            \n",
    "        combined_hidden = torch.cat((hidden_x, hidden_x1), dim=1)\n",
    "\n",
    "        output = self.fc(combined_hidden)\n",
    "        return self.act(output)"
   ]
  },
  {
   "cell_type": "code",
   "execution_count": 19,
   "metadata": {},
   "outputs": [
    {
     "name": "stdout",
     "output_type": "stream",
     "text": [
      "133652\n",
      "150\n"
     ]
    }
   ],
   "source": [
    "vocab_size = get_vocab_size(df)\n",
    "print(vocab_size)\n",
    "embedding_dim = len(X_train_tensor[0])\n",
    "print(embedding_dim)\n",
    "output_dim = 1\n",
    "hidden_dim = 16\n",
    "num_layers = 1\n",
    "learning_rate=0.0005\n",
    "dropout = 0.5\n",
    "num_epochs = 1000\n",
    "bidirectional = True"
   ]
  },
  {
   "cell_type": "code",
   "execution_count": 20,
   "metadata": {},
   "outputs": [
    {
     "name": "stderr",
     "output_type": "stream",
     "text": [
      "/home/ec2-user/anaconda3/envs/pytorch_p310/lib/python3.10/site-packages/torch/nn/modules/rnn.py:82: UserWarning: dropout option adds dropout after all but last recurrent layer, so non-zero dropout expects num_layers greater than 1, but got dropout=0.5 and num_layers=1\n",
      "  warnings.warn(\"dropout option adds dropout after all but last \"\n"
     ]
    }
   ],
   "source": [
    "model = LSTMClassifier(vocab_size=vocab_size,\n",
    "                       embedding_dim=embedding_dim, \n",
    "                       hidden_dim=hidden_dim, \n",
    "                       output_dim=output_dim, \n",
    "                       num_layers=num_layers,\n",
    "                       bidirectional=bidirectional, \n",
    "                       dropout=dropout,\n",
    "                       title_weight=0.5)\n",
    "model.to(device)\n",
    "criterion = nn.BCELoss()\n",
    "optimizer = torch.optim.Adam(model.parameters(), lr=learning_rate)"
   ]
  },
  {
   "cell_type": "code",
   "execution_count": 21,
   "metadata": {},
   "outputs": [],
   "source": [
    "from sklearn.metrics import accuracy_score"
   ]
  },
  {
   "cell_type": "code",
   "execution_count": 22,
   "metadata": {},
   "outputs": [
    {
     "name": "stdout",
     "output_type": "stream",
     "text": [
      "Epoch: 1/1000, Training Loss: 0.6932816505432129, Validation Loss: 0.6939173340797424\n",
      "Epoch: 2/1000, Training Loss: 0.6922736167907715, Validation Loss: 0.6931660175323486\n",
      "Epoch: 3/1000, Training Loss: 0.6912693381309509, Validation Loss: 0.6924208402633667\n",
      "Epoch: 4/1000, Training Loss: 0.6902701258659363, Validation Loss: 0.6916778087615967\n",
      "Epoch: 5/1000, Training Loss: 0.6892739534378052, Validation Loss: 0.6909400820732117\n",
      "Epoch: 6/1000, Training Loss: 0.6882835626602173, Validation Loss: 0.6902005672454834\n",
      "Epoch: 7/1000, Training Loss: 0.687292754650116, Validation Loss: 0.6894679069519043\n",
      "Epoch: 8/1000, Training Loss: 0.686309278011322, Validation Loss: 0.6887332201004028\n",
      "Epoch: 9/1000, Training Loss: 0.6853253245353699, Validation Loss: 0.6880037784576416\n",
      "Epoch: 10/1000, Training Loss: 0.6843461990356445, Validation Loss: 0.6872764229774475\n",
      "Epoch: 11/1000, Training Loss: 0.6833680868148804, Validation Loss: 0.6865498423576355\n",
      "Epoch: 12/1000, Training Loss: 0.6823927164077759, Validation Loss: 0.6858250498771667\n",
      "Epoch: 13/1000, Training Loss: 0.6814188957214355, Validation Loss: 0.6851021647453308\n",
      "Epoch: 14/1000, Training Loss: 0.6804451942443848, Validation Loss: 0.684377908706665\n",
      "Epoch: 15/1000, Training Loss: 0.679469108581543, Validation Loss: 0.6836552619934082\n",
      "Epoch: 16/1000, Training Loss: 0.6784930229187012, Validation Loss: 0.6829283237457275\n",
      "Epoch: 17/1000, Training Loss: 0.6775120496749878, Validation Loss: 0.6822019219398499\n",
      "Epoch: 18/1000, Training Loss: 0.6765276193618774, Validation Loss: 0.6814697980880737\n",
      "Epoch: 19/1000, Training Loss: 0.6755364537239075, Validation Loss: 0.6807398796081543\n",
      "Epoch: 20/1000, Training Loss: 0.6745423078536987, Validation Loss: 0.679999828338623\n",
      "Epoch: 21/1000, Training Loss: 0.6735362410545349, Validation Loss: 0.6792590022087097\n",
      "Epoch: 22/1000, Training Loss: 0.6725242137908936, Validation Loss: 0.6785100102424622\n",
      "Epoch: 23/1000, Training Loss: 0.6715004444122314, Validation Loss: 0.677759051322937\n",
      "Epoch: 24/1000, Training Loss: 0.6704684495925903, Validation Loss: 0.6769970059394836\n",
      "Epoch: 25/1000, Training Loss: 0.6694213151931763, Validation Loss: 0.6762340068817139\n",
      "Epoch: 26/1000, Training Loss: 0.6683652997016907, Validation Loss: 0.675462543964386\n",
      "Epoch: 27/1000, Training Loss: 0.6672954559326172, Validation Loss: 0.6746854782104492\n",
      "Epoch: 28/1000, Training Loss: 0.666211724281311, Validation Loss: 0.6739012598991394\n",
      "Epoch: 29/1000, Training Loss: 0.6651136875152588, Validation Loss: 0.6731082201004028\n",
      "Epoch: 30/1000, Training Loss: 0.6639999151229858, Validation Loss: 0.6723092794418335\n",
      "Epoch: 31/1000, Training Loss: 0.6628714799880981, Validation Loss: 0.6715013384819031\n",
      "Epoch: 32/1000, Training Loss: 0.6617256999015808, Validation Loss: 0.6706858277320862\n",
      "Epoch: 33/1000, Training Loss: 0.6605648994445801, Validation Loss: 0.6698618531227112\n",
      "Epoch: 34/1000, Training Loss: 0.6593858599662781, Validation Loss: 0.6690301299095154\n",
      "Epoch: 35/1000, Training Loss: 0.6581913232803345, Validation Loss: 0.6681873202323914\n",
      "Epoch: 36/1000, Training Loss: 0.6569767594337463, Validation Loss: 0.6673359274864197\n",
      "Epoch: 37/1000, Training Loss: 0.655745267868042, Validation Loss: 0.666474461555481\n",
      "Epoch: 38/1000, Training Loss: 0.6544939875602722, Validation Loss: 0.6656036972999573\n",
      "Epoch: 39/1000, Training Loss: 0.653225302696228, Validation Loss: 0.6647213101387024\n",
      "Epoch: 40/1000, Training Loss: 0.6519357562065125, Validation Loss: 0.6638290882110596\n",
      "Epoch: 41/1000, Training Loss: 0.6506275534629822, Validation Loss: 0.6629238724708557\n",
      "Epoch: 42/1000, Training Loss: 0.6492985486984253, Validation Loss: 0.6620082855224609\n",
      "Epoch: 43/1000, Training Loss: 0.6479496359825134, Validation Loss: 0.6610809564590454\n",
      "Epoch: 44/1000, Training Loss: 0.6465804576873779, Validation Loss: 0.6601418852806091\n",
      "Epoch: 45/1000, Training Loss: 0.6451892852783203, Validation Loss: 0.6591887474060059\n",
      "Epoch: 46/1000, Training Loss: 0.6437768340110779, Validation Loss: 0.6582241654396057\n",
      "Epoch: 47/1000, Training Loss: 0.6423435211181641, Validation Loss: 0.6572472453117371\n",
      "Epoch: 48/1000, Training Loss: 0.640887439250946, Validation Loss: 0.656256377696991\n",
      "Epoch: 49/1000, Training Loss: 0.639407753944397, Validation Loss: 0.6552510261535645\n",
      "Epoch: 50/1000, Training Loss: 0.637905478477478, Validation Loss: 0.6542324423789978\n",
      "Epoch: 51/1000, Training Loss: 0.6363802552223206, Validation Loss: 0.6532003879547119\n",
      "Epoch: 52/1000, Training Loss: 0.6348298788070679, Validation Loss: 0.6521519422531128\n",
      "Epoch: 53/1000, Training Loss: 0.6332554221153259, Validation Loss: 0.6510910987854004\n",
      "Epoch: 54/1000, Training Loss: 0.6316568851470947, Validation Loss: 0.6500126123428345\n",
      "Epoch: 55/1000, Training Loss: 0.6300315856933594, Validation Loss: 0.6489229798316956\n",
      "Epoch: 56/1000, Training Loss: 0.6283819675445557, Validation Loss: 0.6478143334388733\n",
      "Epoch: 57/1000, Training Loss: 0.6267049908638, Validation Loss: 0.6466893553733826\n",
      "Epoch: 58/1000, Training Loss: 0.6250011324882507, Validation Loss: 0.6455497741699219\n",
      "Epoch: 59/1000, Training Loss: 0.623270571231842, Validation Loss: 0.6443954706192017\n",
      "Epoch: 60/1000, Training Loss: 0.6215121150016785, Validation Loss: 0.6432251334190369\n",
      "Epoch: 61/1000, Training Loss: 0.6197272539138794, Validation Loss: 0.6420362591743469\n",
      "Epoch: 62/1000, Training Loss: 0.6179134249687195, Validation Loss: 0.6408320069313049\n",
      "Epoch: 63/1000, Training Loss: 0.6160698533058167, Validation Loss: 0.6396114826202393\n",
      "Epoch: 64/1000, Training Loss: 0.6141989827156067, Validation Loss: 0.6383740901947021\n",
      "Epoch: 65/1000, Training Loss: 0.6122981309890747, Validation Loss: 0.6371220946311951\n",
      "Epoch: 66/1000, Training Loss: 0.6103705167770386, Validation Loss: 0.6358511447906494\n",
      "Epoch: 67/1000, Training Loss: 0.6084100604057312, Validation Loss: 0.634565532207489\n",
      "Epoch: 68/1000, Training Loss: 0.6064213514328003, Validation Loss: 0.6332641243934631\n",
      "Epoch: 69/1000, Training Loss: 0.6044044494628906, Validation Loss: 0.6319456100463867\n",
      "Epoch: 70/1000, Training Loss: 0.6023557782173157, Validation Loss: 0.6306134462356567\n",
      "Epoch: 71/1000, Training Loss: 0.6002786755561829, Validation Loss: 0.6292649507522583\n",
      "Epoch: 72/1000, Training Loss: 0.5981718301773071, Validation Loss: 0.6279027462005615\n",
      "Epoch: 73/1000, Training Loss: 0.5960355401039124, Validation Loss: 0.6265246272087097\n",
      "Epoch: 74/1000, Training Loss: 0.593867838382721, Validation Loss: 0.6251332759857178\n",
      "Epoch: 75/1000, Training Loss: 0.5916728377342224, Validation Loss: 0.6237295269966125\n",
      "Epoch: 76/1000, Training Loss: 0.5894481539726257, Validation Loss: 0.6223130822181702\n",
      "Epoch: 77/1000, Training Loss: 0.5871931314468384, Validation Loss: 0.6208839416503906\n",
      "Epoch: 78/1000, Training Loss: 0.5849096179008484, Validation Loss: 0.6194450259208679\n",
      "Epoch: 79/1000, Training Loss: 0.5825980305671692, Validation Loss: 0.6179918646812439\n",
      "Epoch: 80/1000, Training Loss: 0.5802561640739441, Validation Loss: 0.6165306568145752\n",
      "Epoch: 81/1000, Training Loss: 0.5778866410255432, Validation Loss: 0.6150606870651245\n",
      "Epoch: 82/1000, Training Loss: 0.5754895210266113, Validation Loss: 0.6135780811309814\n",
      "Epoch: 83/1000, Training Loss: 0.5730634927749634, Validation Loss: 0.6120905876159668\n",
      "Epoch: 84/1000, Training Loss: 0.5706110596656799, Validation Loss: 0.610591471195221\n",
      "Epoch: 85/1000, Training Loss: 0.568130373954773, Validation Loss: 0.6090836524963379\n",
      "Epoch: 86/1000, Training Loss: 0.5656249523162842, Validation Loss: 0.6075677871704102\n",
      "Epoch: 87/1000, Training Loss: 0.5630917549133301, Validation Loss: 0.6060402393341064\n",
      "Epoch: 88/1000, Training Loss: 0.5605311989784241, Validation Loss: 0.6045000553131104\n",
      "Epoch: 89/1000, Training Loss: 0.5579484701156616, Validation Loss: 0.6029489040374756\n",
      "Epoch: 90/1000, Training Loss: 0.5553382635116577, Validation Loss: 0.6013824343681335\n",
      "Epoch: 91/1000, Training Loss: 0.5527052283287048, Validation Loss: 0.5997968316078186\n",
      "Epoch: 92/1000, Training Loss: 0.5500458478927612, Validation Loss: 0.5981953144073486\n",
      "Epoch: 93/1000, Training Loss: 0.5473644137382507, Validation Loss: 0.5965754389762878\n",
      "Epoch: 94/1000, Training Loss: 0.5446584820747375, Validation Loss: 0.594939649105072\n",
      "Epoch: 95/1000, Training Loss: 0.541930615901947, Validation Loss: 0.5932899117469788\n",
      "Epoch: 96/1000, Training Loss: 0.5391809344291687, Validation Loss: 0.5916306376457214\n"
     ]
    },
    {
     "name": "stdout",
     "output_type": "stream",
     "text": [
      "Epoch: 97/1000, Training Loss: 0.5364094972610474, Validation Loss: 0.5899657607078552\n",
      "Epoch: 98/1000, Training Loss: 0.5336169004440308, Validation Loss: 0.5883076786994934\n",
      "Epoch: 99/1000, Training Loss: 0.5308073163032532, Validation Loss: 0.5866480469703674\n",
      "Epoch: 100/1000, Training Loss: 0.5279756784439087, Validation Loss: 0.5849952697753906\n",
      "Epoch: 101/1000, Training Loss: 0.5251269936561584, Validation Loss: 0.5833498239517212\n",
      "Epoch: 102/1000, Training Loss: 0.5222606658935547, Validation Loss: 0.5817040801048279\n",
      "Epoch: 103/1000, Training Loss: 0.5193763971328735, Validation Loss: 0.5800572633743286\n",
      "Epoch: 104/1000, Training Loss: 0.5164763927459717, Validation Loss: 0.5784031748771667\n",
      "Epoch: 105/1000, Training Loss: 0.5135600566864014, Validation Loss: 0.5767415761947632\n",
      "Epoch: 106/1000, Training Loss: 0.5106282234191895, Validation Loss: 0.5750701427459717\n",
      "Epoch: 107/1000, Training Loss: 0.5076810717582703, Validation Loss: 0.5733897686004639\n",
      "Epoch: 108/1000, Training Loss: 0.504719614982605, Validation Loss: 0.5717096328735352\n",
      "Epoch: 109/1000, Training Loss: 0.5017423629760742, Validation Loss: 0.5700320601463318\n",
      "Epoch: 110/1000, Training Loss: 0.4987509250640869, Validation Loss: 0.5683640241622925\n",
      "Epoch: 111/1000, Training Loss: 0.49574393033981323, Validation Loss: 0.5666955709457397\n",
      "Epoch: 112/1000, Training Loss: 0.49272018671035767, Validation Loss: 0.5650370121002197\n",
      "Epoch: 113/1000, Training Loss: 0.4896801710128784, Validation Loss: 0.5633730888366699\n",
      "Epoch: 114/1000, Training Loss: 0.4866217374801636, Validation Loss: 0.5616970658302307\n",
      "Epoch: 115/1000, Training Loss: 0.4835435450077057, Validation Loss: 0.5600132346153259\n",
      "Epoch: 116/1000, Training Loss: 0.4804479777812958, Validation Loss: 0.5583139061927795\n",
      "Epoch: 117/1000, Training Loss: 0.47732973098754883, Validation Loss: 0.5566036701202393\n",
      "Epoch: 118/1000, Training Loss: 0.4741917550563812, Validation Loss: 0.5548821091651917\n",
      "Epoch: 119/1000, Training Loss: 0.47103074193000793, Validation Loss: 0.5531637072563171\n",
      "Epoch: 120/1000, Training Loss: 0.467849999666214, Validation Loss: 0.5514360666275024\n",
      "Epoch: 121/1000, Training Loss: 0.46464553475379944, Validation Loss: 0.5497118830680847\n",
      "Epoch: 122/1000, Training Loss: 0.4614194929599762, Validation Loss: 0.5479822754859924\n",
      "Epoch: 123/1000, Training Loss: 0.4581707715988159, Validation Loss: 0.5462424755096436\n",
      "Epoch: 124/1000, Training Loss: 0.45490023493766785, Validation Loss: 0.5444979071617126\n",
      "Epoch: 125/1000, Training Loss: 0.4516080319881439, Validation Loss: 0.5427441000938416\n",
      "Epoch: 126/1000, Training Loss: 0.4482959508895874, Validation Loss: 0.5409907102584839\n",
      "Epoch: 127/1000, Training Loss: 0.4449617266654968, Validation Loss: 0.5392349362373352\n",
      "Epoch: 128/1000, Training Loss: 0.44160962104797363, Validation Loss: 0.5374898910522461\n",
      "Epoch: 129/1000, Training Loss: 0.43823695182800293, Validation Loss: 0.5357537269592285\n",
      "Epoch: 130/1000, Training Loss: 0.4348432421684265, Validation Loss: 0.5340295433998108\n",
      "Epoch: 131/1000, Training Loss: 0.4314311742782593, Validation Loss: 0.5323087573051453\n",
      "Epoch: 132/1000, Training Loss: 0.42799827456474304, Validation Loss: 0.5305953621864319\n",
      "Epoch: 133/1000, Training Loss: 0.42454496026039124, Validation Loss: 0.528885543346405\n",
      "Epoch: 134/1000, Training Loss: 0.4210706353187561, Validation Loss: 0.5271872282028198\n",
      "Epoch: 135/1000, Training Loss: 0.41757485270500183, Validation Loss: 0.5255019664764404\n",
      "Epoch: 136/1000, Training Loss: 0.4140588045120239, Validation Loss: 0.5238240957260132\n",
      "Epoch: 137/1000, Training Loss: 0.41051945090293884, Validation Loss: 0.5221630334854126\n",
      "Epoch: 138/1000, Training Loss: 0.40695837140083313, Validation Loss: 0.5205193758010864\n",
      "Epoch: 139/1000, Training Loss: 0.40337514877319336, Validation Loss: 0.5188826322555542\n",
      "Epoch: 140/1000, Training Loss: 0.3997688889503479, Validation Loss: 0.5172504186630249\n",
      "Epoch: 141/1000, Training Loss: 0.3961417078971863, Validation Loss: 0.5156302452087402\n",
      "Epoch: 142/1000, Training Loss: 0.3924912214279175, Validation Loss: 0.51401686668396\n",
      "Epoch: 143/1000, Training Loss: 0.38882043957710266, Validation Loss: 0.5124109983444214\n",
      "Epoch: 144/1000, Training Loss: 0.38512706756591797, Validation Loss: 0.510812520980835\n",
      "Epoch: 145/1000, Training Loss: 0.38141119480133057, Validation Loss: 0.5092182755470276\n",
      "Epoch: 146/1000, Training Loss: 0.3776731789112091, Validation Loss: 0.5076296925544739\n",
      "Epoch: 147/1000, Training Loss: 0.37391433119773865, Validation Loss: 0.5060440897941589\n",
      "Epoch: 148/1000, Training Loss: 0.3701333999633789, Validation Loss: 0.5044525861740112\n",
      "Epoch: 149/1000, Training Loss: 0.3663305342197418, Validation Loss: 0.5028581619262695\n",
      "Epoch: 150/1000, Training Loss: 0.36250802874565125, Validation Loss: 0.5012613534927368\n",
      "Epoch: 151/1000, Training Loss: 0.35866257548332214, Validation Loss: 0.49966269731521606\n",
      "Epoch: 152/1000, Training Loss: 0.3547993004322052, Validation Loss: 0.4980665445327759\n",
      "Epoch: 153/1000, Training Loss: 0.35091766715049744, Validation Loss: 0.496469646692276\n",
      "Epoch: 154/1000, Training Loss: 0.34702160954475403, Validation Loss: 0.49488237500190735\n",
      "Epoch: 155/1000, Training Loss: 0.3431110680103302, Validation Loss: 0.4933037757873535\n",
      "Epoch: 156/1000, Training Loss: 0.3391925096511841, Validation Loss: 0.4917500615119934\n",
      "Epoch: 157/1000, Training Loss: 0.3352639973163605, Validation Loss: 0.4902181327342987\n",
      "Epoch: 158/1000, Training Loss: 0.33133211731910706, Validation Loss: 0.48872002959251404\n",
      "Epoch: 159/1000, Training Loss: 0.32739487290382385, Validation Loss: 0.48724520206451416\n",
      "Epoch: 160/1000, Training Loss: 0.32345104217529297, Validation Loss: 0.48581463098526\n",
      "Epoch: 161/1000, Training Loss: 0.3195057809352875, Validation Loss: 0.48442208766937256\n",
      "Epoch: 162/1000, Training Loss: 0.3155598044395447, Validation Loss: 0.48305702209472656\n",
      "Epoch: 163/1000, Training Loss: 0.31161388754844666, Validation Loss: 0.4817374646663666\n",
      "Epoch: 164/1000, Training Loss: 0.3076736629009247, Validation Loss: 0.480445921421051\n",
      "Epoch: 165/1000, Training Loss: 0.30374228954315186, Validation Loss: 0.4791952669620514\n",
      "Epoch: 166/1000, Training Loss: 0.2998194992542267, Validation Loss: 0.4856627881526947\n",
      "Epoch: 167/1000, Training Loss: 0.3003070652484894, Validation Loss: 0.4761146903038025\n",
      "Epoch: 168/1000, Training Loss: 0.29288095235824585, Validation Loss: 0.47466665506362915\n",
      "Epoch: 169/1000, Training Loss: 0.28992947936058044, Validation Loss: 0.4734998941421509\n",
      "Epoch: 170/1000, Training Loss: 0.286941260099411, Validation Loss: 0.4725157618522644\n",
      "Epoch: 171/1000, Training Loss: 0.28387516736984253, Validation Loss: 0.4716889560222626\n",
      "Epoch: 172/1000, Training Loss: 0.28075969219207764, Validation Loss: 0.471009224653244\n",
      "Epoch: 173/1000, Training Loss: 0.2776474356651306, Validation Loss: 0.47045236825942993\n",
      "Epoch: 174/1000, Training Loss: 0.2745733857154846, Validation Loss: 0.4699479639530182\n",
      "Epoch: 175/1000, Training Loss: 0.2715524137020111, Validation Loss: 0.4694133400917053\n",
      "Epoch: 176/1000, Training Loss: 0.2685578763484955, Validation Loss: 0.46875083446502686\n",
      "Epoch: 177/1000, Training Loss: 0.2655576467514038, Validation Loss: 0.4679293930530548\n",
      "Epoch: 178/1000, Training Loss: 0.26253464818000793, Validation Loss: 0.4669782221317291\n",
      "Epoch: 179/1000, Training Loss: 0.25949838757514954, Validation Loss: 0.46593546867370605\n",
      "Epoch: 180/1000, Training Loss: 0.25646764039993286, Validation Loss: 0.46486547589302063\n",
      "Epoch: 181/1000, Training Loss: 0.25346800684928894, Validation Loss: 0.463844895362854\n",
      "Epoch: 182/1000, Training Loss: 0.2505020797252655, Validation Loss: 0.46289995312690735\n",
      "Epoch: 183/1000, Training Loss: 0.24756839871406555, Validation Loss: 0.4620474874973297\n",
      "Epoch: 184/1000, Training Loss: 0.24464988708496094, Validation Loss: 0.4612959027290344\n",
      "Epoch: 185/1000, Training Loss: 0.24174180626869202, Validation Loss: 0.46063855290412903\n",
      "Epoch: 186/1000, Training Loss: 0.2388388216495514, Validation Loss: 0.4600607454776764\n",
      "Epoch: 187/1000, Training Loss: 0.23595178127288818, Validation Loss: 0.4595515727996826\n",
      "Epoch: 188/1000, Training Loss: 0.23308944702148438, Validation Loss: 0.45907512307167053\n",
      "Epoch: 189/1000, Training Loss: 0.23025844991207123, Validation Loss: 0.4586015045642853\n",
      "Epoch: 190/1000, Training Loss: 0.22746050357818604, Validation Loss: 0.458118736743927\n"
     ]
    },
    {
     "name": "stdout",
     "output_type": "stream",
     "text": [
      "Epoch: 191/1000, Training Loss: 0.2246902585029602, Validation Loss: 0.4575800597667694\n",
      "Epoch: 192/1000, Training Loss: 0.22193977236747742, Validation Loss: 0.45698681473731995\n",
      "Epoch: 193/1000, Training Loss: 0.21921147406101227, Validation Loss: 0.4563462734222412\n",
      "Epoch: 194/1000, Training Loss: 0.216499462723732, Validation Loss: 0.4556772708892822\n",
      "Epoch: 195/1000, Training Loss: 0.213811993598938, Validation Loss: 0.4550052881240845\n",
      "Epoch: 196/1000, Training Loss: 0.21115350723266602, Validation Loss: 0.45436033606529236\n",
      "Epoch: 197/1000, Training Loss: 0.20852495729923248, Validation Loss: 0.45376428961753845\n",
      "Epoch: 198/1000, Training Loss: 0.20592190325260162, Validation Loss: 0.4532112181186676\n",
      "Epoch: 199/1000, Training Loss: 0.20334427058696747, Validation Loss: 0.45272767543792725\n",
      "Epoch: 200/1000, Training Loss: 0.200787752866745, Validation Loss: 0.45230385661125183\n",
      "Epoch: 201/1000, Training Loss: 0.198250874876976, Validation Loss: 0.45192575454711914\n",
      "Epoch: 202/1000, Training Loss: 0.1957360953092575, Validation Loss: 0.45158666372299194\n",
      "Epoch: 203/1000, Training Loss: 0.19324424862861633, Validation Loss: 0.4512840807437897\n",
      "Epoch: 204/1000, Training Loss: 0.1907767653465271, Validation Loss: 0.4509921967983246\n",
      "Epoch: 205/1000, Training Loss: 0.1883334368467331, Validation Loss: 0.4506903290748596\n",
      "Epoch: 206/1000, Training Loss: 0.1859133094549179, Validation Loss: 0.4503953456878662\n",
      "Epoch: 207/1000, Training Loss: 0.18351417779922485, Validation Loss: 0.4500889778137207\n",
      "Epoch: 208/1000, Training Loss: 0.18113352358341217, Validation Loss: 0.44975709915161133\n",
      "Epoch: 209/1000, Training Loss: 0.17877450585365295, Validation Loss: 0.449432373046875\n",
      "Epoch: 210/1000, Training Loss: 0.17643272876739502, Validation Loss: 0.44909432530403137\n",
      "Epoch: 211/1000, Training Loss: 0.1741098016500473, Validation Loss: 0.44873562455177307\n",
      "Epoch: 212/1000, Training Loss: 0.17180214822292328, Validation Loss: 0.4483286440372467\n",
      "Epoch: 213/1000, Training Loss: 0.16949588060379028, Validation Loss: 0.44787293672561646\n",
      "Epoch: 214/1000, Training Loss: 0.16718164086341858, Validation Loss: 0.4473668038845062\n",
      "Epoch: 215/1000, Training Loss: 0.16485218703746796, Validation Loss: 0.4467929005622864\n",
      "Epoch: 216/1000, Training Loss: 0.16251033544540405, Validation Loss: 0.446049302816391\n",
      "Epoch: 217/1000, Training Loss: 0.16015435755252838, Validation Loss: 0.44498980045318604\n",
      "Epoch: 218/1000, Training Loss: 0.15774698555469513, Validation Loss: 0.44381973147392273\n",
      "Epoch: 219/1000, Training Loss: 0.1552070677280426, Validation Loss: 0.442350298166275\n",
      "Epoch: 220/1000, Training Loss: 0.1522536724805832, Validation Loss: 0.44164061546325684\n",
      "Epoch: 221/1000, Training Loss: 0.1503945291042328, Validation Loss: 0.4416293799877167\n",
      "Epoch: 222/1000, Training Loss: 0.14868633449077606, Validation Loss: 0.44038355350494385\n",
      "Epoch: 223/1000, Training Loss: 0.146200492978096, Validation Loss: 0.4402543008327484\n",
      "Epoch: 224/1000, Training Loss: 0.1443662941455841, Validation Loss: 0.4405113160610199\n",
      "Epoch: 225/1000, Training Loss: 0.14279446005821228, Validation Loss: 0.4406154453754425\n",
      "Epoch: 226/1000, Training Loss: 0.14112615585327148, Validation Loss: 0.44058024883270264\n",
      "Epoch: 227/1000, Training Loss: 0.13929668068885803, Validation Loss: 0.4404298961162567\n",
      "Epoch: 228/1000, Training Loss: 0.13736218214035034, Validation Loss: 0.4402501583099365\n",
      "Epoch: 229/1000, Training Loss: 0.13545331358909607, Validation Loss: 0.4404773414134979\n",
      "Epoch: 230/1000, Training Loss: 0.1337030977010727, Validation Loss: 0.4405648410320282\n",
      "Epoch: 231/1000, Training Loss: 0.13212336599826813, Validation Loss: 0.4411601126194\n",
      "Epoch: 232/1000, Training Loss: 0.13060402870178223, Validation Loss: 0.4407629072666168\n",
      "Epoch: 233/1000, Training Loss: 0.12879668176174164, Validation Loss: 0.44096431136131287\n",
      "Epoch: 234/1000, Training Loss: 0.1271609216928482, Validation Loss: 0.44090211391448975\n",
      "Epoch: 235/1000, Training Loss: 0.12566928565502167, Validation Loss: 0.4408118426799774\n",
      "Epoch: 236/1000, Training Loss: 0.12418090552091599, Validation Loss: 0.44077393412590027\n",
      "Epoch: 237/1000, Training Loss: 0.12265922874212265, Validation Loss: 0.44080987572669983\n",
      "Epoch: 238/1000, Training Loss: 0.12109901010990143, Validation Loss: 0.44075798988342285\n",
      "Epoch: 239/1000, Training Loss: 0.11954813450574875, Validation Loss: 0.44089049100875854\n",
      "Epoch: 240/1000, Training Loss: 0.11813492327928543, Validation Loss: 0.4411782920360565\n",
      "Epoch: 241/1000, Training Loss: 0.11674664914608002, Validation Loss: 0.44107046723365784\n",
      "Epoch: 242/1000, Training Loss: 0.1151927262544632, Validation Loss: 0.44129642844200134\n",
      "Epoch: 243/1000, Training Loss: 0.11381672322750092, Validation Loss: 0.4414803981781006\n",
      "Epoch: 244/1000, Training Loss: 0.11249066889286041, Validation Loss: 0.44171804189682007\n",
      "Epoch: 245/1000, Training Loss: 0.11106603592634201, Validation Loss: 0.44214656949043274\n",
      "Epoch: 246/1000, Training Loss: 0.10966507345438004, Validation Loss: 0.4427374005317688\n",
      "Epoch: 247/1000, Training Loss: 0.1084761917591095, Validation Loss: 0.44268378615379333\n",
      "Epoch: 248/1000, Training Loss: 0.10705000907182693, Validation Loss: 0.4427301585674286\n",
      "Epoch: 249/1000, Training Loss: 0.10585840791463852, Validation Loss: 0.4429827928543091\n",
      "Epoch: 250/1000, Training Loss: 0.10462620109319687, Validation Loss: 0.44352295994758606\n",
      "Epoch: 251/1000, Training Loss: 0.10335836559534073, Validation Loss: 0.4439791142940521\n",
      "Epoch: 252/1000, Training Loss: 0.10224015265703201, Validation Loss: 0.4442397654056549\n",
      "Epoch: 253/1000, Training Loss: 0.10105275362730026, Validation Loss: 0.4443029463291168\n",
      "Epoch: 254/1000, Training Loss: 0.09987784177064896, Validation Loss: 0.4443497359752655\n",
      "Epoch: 255/1000, Training Loss: 0.09879147261381149, Validation Loss: 0.44476330280303955\n",
      "Epoch: 256/1000, Training Loss: 0.0976620614528656, Validation Loss: 0.44546547532081604\n",
      "Epoch: 257/1000, Training Loss: 0.09653832763433456, Validation Loss: 0.4459654688835144\n",
      "Epoch: 258/1000, Training Loss: 0.09550793468952179, Validation Loss: 0.44629618525505066\n",
      "Early stopping triggered\n",
      "Best epoch:  227\n"
     ]
    }
   ],
   "source": [
    "import numpy as np\n",
    "\n",
    "best_loss = float('inf')\n",
    "best_epoch = 0\n",
    "accuracies_train = []\n",
    "accuracies_val = []\n",
    "losses_train = []\n",
    "losses_val = []\n",
    "\n",
    "patience = 30\n",
    "patience_counter = 0\n",
    "\n",
    "for epoch in range(num_epochs):\n",
    "    model.train()\n",
    "    optimizer.zero_grad()\n",
    "    outputs = model(X_train_tensor, X_titles_train_tensor)\n",
    "    \n",
    "    # loss\n",
    "    loss = criterion(outputs, y_train)\n",
    "    losses_train.append(loss.item())  # Logging the loss value\n",
    "    loss.backward()\n",
    "    optimizer.step()\n",
    "\n",
    "    # accuracy (need to move tensors to CPU before converting to NumPy)\n",
    "    with torch.no_grad():\n",
    "        predicted = (outputs >= 0.5).squeeze().long()\n",
    "        accuracy = accuracy_score(y_train.cpu().numpy(), predicted.cpu().numpy())\n",
    "        accuracies_train.append(accuracy)\n",
    "    \n",
    "    # validation\n",
    "    model.eval()\n",
    "    val_outputs = model(X_val_tensor, X_titles_val_tensor)\n",
    "\n",
    "    # val loss\n",
    "    val_loss = criterion(val_outputs, y_val)\n",
    "    losses_val.append(val_loss.item())  # Logging the validation loss value\n",
    "\n",
    "    # val accuracy (move to CPU and convert to NumPy)\n",
    "    with torch.no_grad():\n",
    "        predicted_val = (val_outputs >= 0.5).squeeze().long()\n",
    "        accuracy_val = accuracy_score(y_val.cpu().numpy(), predicted_val.cpu().numpy())\n",
    "        accuracies_val.append(accuracy_val)\n",
    "    \n",
    "    if val_loss < best_loss:\n",
    "        best_loss = val_loss\n",
    "        best_epoch = epoch\n",
    "        best_weights = model.state_dict()\n",
    "        patience_counter = 0  # Reset patience counter on improvement\n",
    "    else:\n",
    "        patience_counter += 1\n",
    "    \n",
    "    print(f\"Epoch: {epoch+1}/{num_epochs}, Training Loss: {loss.item()}, Validation Loss: {val_loss.item()}\")\n",
    "\n",
    "    if patience_counter >= patience:\n",
    "        print(\"Early stopping triggered\")\n",
    "        break\n",
    "    \n",
    "print(\"Best epoch: \", best_epoch)\n"
   ]
  },
  {
   "cell_type": "code",
   "execution_count": 23,
   "metadata": {},
   "outputs": [],
   "source": [
    "if best_weights is not None:\n",
    "    model.load_state_dict(best_weights)"
   ]
  },
  {
   "cell_type": "code",
   "execution_count": 24,
   "metadata": {},
   "outputs": [
    {
     "name": "stdout",
     "output_type": "stream",
     "text": [
      "0.9749908947432318 0.7864022662889518 0.13736218214035034 0.4402501583099365\n"
     ]
    }
   ],
   "source": [
    "print(accuracies_train[best_epoch],\n",
    "accuracies_val[best_epoch],\n",
    "losses_train[best_epoch],\n",
    "losses_val[best_epoch])"
   ]
  },
  {
   "cell_type": "code",
   "execution_count": 25,
   "metadata": {},
   "outputs": [
    {
     "data": {
      "image/png": "[encoded data removed]",
      "text/plain": [
       "<Figure size 1200x400 with 2 Axes>"
      ]
     },
     "metadata": {},
     "output_type": "display_data"
    }
   ],
   "source": [
    "# lists to tensors\n",
    "losses_train = torch.tensor(losses_train)\n",
    "losses_val = torch.tensor(losses_val)\n",
    "accuracies_train = torch.tensor(accuracies_train)\n",
    "accuracies_val = torch.tensor(accuracies_val)\n",
    "\n",
    "# training and validation losses\n",
    "plt.figure(figsize=(12, 4))\n",
    "plt.subplot(1, 2, 1)\n",
    "plt.plot(losses_train.detach().numpy(), label='Training Loss')\n",
    "plt.plot(losses_val.detach().numpy(), label='Validation Loss')\n",
    "plt.xlabel('Epoch')\n",
    "plt.ylabel('Loss')\n",
    "plt.title('Training and Validation Loss')\n",
    "plt.legend()\n",
    "\n",
    "# training and validation accuracies\n",
    "plt.subplot(1, 2, 2)\n",
    "plt.plot(accuracies_train.detach().numpy(), label='Training Accuracy')\n",
    "plt.plot(accuracies_val.detach().numpy(), label='Validation Accuracy')\n",
    "plt.xlabel('Epoch')\n",
    "plt.ylabel('Accuracy')\n",
    "plt.title('Training and Validation Accuracy')\n",
    "plt.legend()\n",
    "\n",
    "plt.tight_layout()\n",
    "plt.show()\n"
   ]
  },
  {
   "cell_type": "code",
   "execution_count": 26,
   "metadata": {},
   "outputs": [],
   "source": [
    "from sklearn.metrics import (precision_score, recall_score, f1_score)"
   ]
  },
  {
   "cell_type": "code",
   "execution_count": 27,
   "metadata": {},
   "outputs": [],
   "source": [
    "test_outputs = model(X_test_tensor, X_titles_test_tensor)\n",
    "test_outputs = (test_outputs >= 0.5).squeeze().long()"
   ]
  },
  {
   "cell_type": "code",
   "execution_count": 28,
   "metadata": {},
   "outputs": [],
   "source": [
    "test_outputs = test_outputs.cpu().numpy()\n",
    "y_test = y_test.cpu().numpy()"
   ]
  },
  {
   "cell_type": "code",
   "execution_count": 29,
   "metadata": {},
   "outputs": [],
   "source": [
    "test_accuracy = accuracy_score(y_test, test_outputs)\n",
    "test_precision = precision_score(y_test, test_outputs)\n",
    "test_recall = recall_score(y_test, test_outputs)\n",
    "test_f1 = f1_score(y_test, test_outputs)"
   ]
  },
  {
   "cell_type": "code",
   "execution_count": 30,
   "metadata": {},
   "outputs": [
    {
     "name": "stdout",
     "output_type": "stream",
     "text": [
      "Accuracy: 0.804643261608154\n",
      "Precision: 0.7931404072883173\n",
      "Recall: 0.8295964125560538\n",
      "f1: 0.810958904109589\n"
     ]
    }
   ],
   "source": [
    "print(\"Accuracy:\", test_accuracy)\n",
    "print(\"Precision:\", test_precision)\n",
    "print(\"Recall:\", test_recall)\n",
    "print(\"f1:\", test_f1)"
   ]
  },
  {
   "cell_type": "markdown",
   "metadata": {},
   "source": [
    "test dataset (40 texts)"
   ]
  },
  {
   "cell_type": "code",
   "execution_count": 38,
   "metadata": {},
   "outputs": [],
   "source": [
    "import json\n",
    "with open(\"test_set.json\", \"r\", encoding=\"utf-8\") as f: \n",
    "    test_texts = json.load(f)\n",
    "\n",
    "fake_texts = [t[\"text\"] for t in test_texts if t[\"label\"] == \"Fake\"]\n",
    "fake_titles = [t[\"title\"] for t in test_texts if t[\"label\"] == \"Fake\"]\n",
    "real_texts = [t[\"text\"] for t in test_texts if t[\"label\"] == \"Real\"]\n",
    "real_titles = [t[\"text\"] for t in test_texts if t[\"label\"] == \"Real\"]"
   ]
  },
  {
   "cell_type": "code",
   "execution_count": 39,
   "metadata": {},
   "outputs": [
    {
     "name": "stdout",
     "output_type": "stream",
     "text": [
      "20 20\n"
     ]
    }
   ],
   "source": [
    "print(len(fake_texts), len(real_texts))"
   ]
  },
  {
   "cell_type": "code",
   "execution_count": 40,
   "metadata": {},
   "outputs": [],
   "source": [
    "df = pd.DataFrame(columns = [\"ukr_text\", \"label\", \"title_ukr\"])\n",
    "for i, text in enumerate(fake_texts): \n",
    "    df.loc[i] = {\n",
    "        \"ukr_text\": text, \n",
    "        \"label\": \"Fake\", \n",
    "        \"title_ukr\": fake_titles[i]\n",
    "    }\n",
    "\n",
    "for i, text in enumerate(real_texts): \n",
    "    df.loc[i+20] = {\n",
    "        \"ukr_text\": text, \n",
    "        \"label\": \"Real\", \n",
    "        \"title_ukr\": real_titles[i]\n",
    "    }"
   ]
  },
  {
   "cell_type": "code",
   "execution_count": 41,
   "metadata": {},
   "outputs": [],
   "source": [
    "# df"
   ]
  },
  {
   "cell_type": "code",
   "execution_count": 42,
   "metadata": {},
   "outputs": [
    {
     "data": {
      "text/plain": [
       "40"
      ]
     },
     "execution_count": 42,
     "metadata": {},
     "output_type": "execute_result"
    }
   ],
   "source": [
    "len(df)"
   ]
  },
  {
   "cell_type": "code",
   "execution_count": 43,
   "metadata": {},
   "outputs": [],
   "source": [
    "test_data_x = torch.LongTensor(tokenize_x(get_x(df), dictionary=dictionary))\n",
    "test_data_x_titles = torch.LongTensor(tokenize_x(get_x1(df), dictionary=dictionary))\n",
    "test_data_y = torch.tensor(get_y(df), dtype=torch.float).view(-1, 1).cpu()"
   ]
  },
  {
   "cell_type": "code",
   "execution_count": 44,
   "metadata": {},
   "outputs": [],
   "source": [
    "test_data_x = test_data_x.to(device)\n",
    "test_data_x_titles = test_data_x_titles.to(device)\n",
    "# test_data_y = test_data_x.cpu()"
   ]
  },
  {
   "cell_type": "code",
   "execution_count": 45,
   "metadata": {},
   "outputs": [],
   "source": [
    "test_outputs = model(test_data_x, test_data_x_titles)\n",
    "test_outputs = (test_outputs >= 0.5).squeeze().long()"
   ]
  },
  {
   "cell_type": "code",
   "execution_count": 46,
   "metadata": {},
   "outputs": [
    {
     "data": {
      "text/plain": [
       "tensor([0, 1, 0, 1, 1, 1, 1, 1, 0, 1, 1, 1, 1, 1, 1, 1, 1, 1, 1, 0, 0, 1, 0, 0,\n",
       "        0, 0, 1, 0, 0, 0, 0, 1, 1, 0, 0, 0, 0, 0, 0, 0], device='cuda:0')"
      ]
     },
     "execution_count": 46,
     "metadata": {},
     "output_type": "execute_result"
    }
   ],
   "source": [
    "test_outputs"
   ]
  },
  {
   "cell_type": "code",
   "execution_count": 47,
   "metadata": {},
   "outputs": [],
   "source": [
    "test_outputs = test_outputs.cpu().numpy()\n",
    "test_data_y = test_data_y.cpu().numpy()"
   ]
  },
  {
   "cell_type": "code",
   "execution_count": 48,
   "metadata": {},
   "outputs": [],
   "source": [
    "test_accuracy = accuracy_score(test_data_y, test_outputs)\n",
    "test_precision = precision_score(test_data_y, test_outputs)\n",
    "test_recall = recall_score(test_data_y, test_outputs)\n",
    "test_f1 = f1_score(test_data_y, test_outputs)"
   ]
  },
  {
   "cell_type": "code",
   "execution_count": 49,
   "metadata": {},
   "outputs": [
    {
     "name": "stdout",
     "output_type": "stream",
     "text": [
      "0.8 0.8 0.8 0.8\n"
     ]
    }
   ],
   "source": [
    "print(test_accuracy, test_precision, test_recall, test_f1)"
   ]
  },
  {
   "cell_type": "code",
   "execution_count": 52,
   "metadata": {},
   "outputs": [],
   "source": [
    "model.to(\"cpu\")\n",
    "model_scripted = torch.jit.script(model)\n",
    "model_scripted.save('model_scripted.pt')\n",
    "# torch.save(model, 'lstm_with_zepopo_32_without_markers_with_titles.pth')"
   ]
  }
 ],
 "metadata": {
  "kernelspec": {
   "display_name": "conda_pytorch_p310",
   "language": "python",
   "name": "conda_pytorch_p310"
  },
  "language_info": {
   "codemirror_mode": {
    "name": "ipython",
    "version": 3
   },
   "file_extension": ".py",
   "mimetype": "text/x-python",
   "name": "python",
   "nbconvert_exporter": "python",
   "pygments_lexer": "ipython3",
   "version": "3.10.14"
  }
 },
 "nbformat": 4,
 "nbformat_minor": 2
}
